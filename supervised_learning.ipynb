{
 "cells": [
  {
   "cell_type": "code",
   "execution_count": 1,
   "metadata": {
    "collapsed": true
   },
   "outputs": [],
   "source": [
    "import numpy as np\n",
    "import os\n",
    "from pprint import pprint\n",
    "from collections import defaultdict\n",
    "import seq_helper as seqh\n",
    "from sklearn.linear_model import LogisticRegression\n",
    "from sklearn.model_selection import train_test_split"
   ]
  },
  {
   "cell_type": "code",
   "execution_count": 2,
   "metadata": {
    "collapsed": false,
    "scrolled": true
   },
   "outputs": [],
   "source": [
    "# read data\n",
    "dirname = ''.join(['./pre_process_dataset/'])\n",
    "file_list = []\n",
    "fm_set = set()\n",
    "Q_set = set()\n",
    "label = []\n",
    "\n",
    "name_image_dict = {}\n",
    "for name in os.listdir(dirname):    \n",
    "    file_path_name = ''.join(['./pre_process_dataset/',name])    \n",
    "    data = (seqh.read_from_file(file_path_name))   \n",
    "    \n",
    "    Q_hist = set(data[0].keys())        \n",
    "    Q_set.update(Q_hist)    \n",
    "        \n",
    "    fm = data[1].keys()\n",
    "    fm_set.update(set(fm))\n",
    "    \n",
    "    label.append(data[2])\n",
    "    \n",
    "    file_list.append(data)\n",
    "\n",
    "label = np.array(label)"
   ]
  },
  {
   "cell_type": "code",
   "execution_count": 3,
   "metadata": {
    "collapsed": false
   },
   "outputs": [],
   "source": [
    "# format data into matrix\n",
    "data_num = len(file_list)\n",
    "\n",
    "Q_dim = len(Q_set)\n",
    "Q_index = [i for i in range(Q_dim)]\n",
    "Q_name = list(Q_set)\n",
    "Q_name_index_dict = dict(zip(Q_name, Q_index))\n",
    "\n",
    "fm_dim = len(fm_set)\n",
    "fm_index = [i for i in range(fm_dim)]  #for the dict to matrix mapping\n",
    "fm_name = list(fm_set)\n",
    "fm_name_index_dict = dict(zip(fm_name, fm_index))\n",
    "\n",
    "Q = np.zeros((data_num, Q_dim))    #Q quality matrix, shape num_data, dim\n",
    "F = np.zeros((data_num, fm_dim))   #4-mer matrix, shape num_data, dim\n",
    "\n",
    "for i in range(data_num):\n",
    "    data = file_list[i]\n",
    "    Q_hist = data[0]\n",
    "    fm_hist = data[1]\n",
    "    data_Q_num = np.sum(np.array(list(Q_hist.values())))\n",
    "    data_fm_num = np.sum(np.array(list(fm_hist.values())))    \n",
    "    \n",
    "    for key, value in Q_hist.items():\n",
    "        j = Q_name_index_dict[key]\n",
    "        Q[i,j] = value/data_Q_num       #normalization\n",
    "        \n",
    "    for key, value in fm_hist.items():\n",
    "        j = fm_name_index_dict[key]\n",
    "        F[i,j] = value/data_fm_num      #normalization\n",
    "    "
   ]
  },
  {
   "cell_type": "code",
   "execution_count": 4,
   "metadata": {
    "collapsed": false
   },
   "outputs": [
    {
     "name": "stdout",
     "output_type": "stream",
     "text": [
      "accuracy:  0.888888888889\n",
      "precision:  0.909090909091\n",
      "recall:  0.857142857143\n",
      "[[30  5]\n",
      " [ 3 34]]\n"
     ]
    }
   ],
   "source": [
    "# logistic regression, 0.6 training, 0.2 validation, 0.2 testing\n",
    "Q_train, Q_test, F_train, F_test, label_train, label_test=train_test_split(Q,F,label,test_size=0.4, random_state=42)\n",
    "Q_valid, Q_test, F_valid, F_test, label_valid, label_test=train_test_split(Q_test,F_test,label_test,test_size=0.5, \n",
    "                                                                           random_state=42)\n",
    "\n",
    "C = 100000000000 # large C -> no regularization\n",
    "logistic_regr = LogisticRegression(penalty='l2', C=C) \n",
    "\n",
    "val_pred_list = []\n",
    "logistic_regr.fit(Q_train, label_train)\n",
    "\n",
    "# on validation set    \n",
    "valid_pred = (logistic_regr.predict(Q_valid))\n",
    "valid_pred_l = list((valid_pred.astype('float')).astype('int'))\n",
    "label_valid_l = list((label_valid.astype('float')).astype('int'))\n",
    "\n",
    "seqh.evaluate_result(label_valid_l, valid_pred_l)"
   ]
  },
  {
   "cell_type": "code",
   "execution_count": 5,
   "metadata": {
    "collapsed": false
   },
   "outputs": [
    {
     "name": "stdout",
     "output_type": "stream",
     "text": [
      "accuracy:  0.847222222222\n",
      "precision:  0.842105263158\n",
      "recall:  0.864864864865\n",
      "[[32  5]\n",
      " [ 6 29]]\n"
     ]
    }
   ],
   "source": [
    "# on test set    \n",
    "test_pred = (logistic_regr.predict(Q_test))\n",
    "test_pred_l = list((test_pred.astype('float')).astype('int'))\n",
    "label_test_l = list((label_test.astype('float')).astype('int'))\n",
    "seqh.evaluate_result(label_test_l, test_pred_l)"
   ]
  },
  {
   "cell_type": "code",
   "execution_count": 6,
   "metadata": {
    "collapsed": false
   },
   "outputs": [
    {
     "name": "stdout",
     "output_type": "stream",
     "text": [
      "accuracy:  0.958333333333\n",
      "precision:  1.0\n",
      "recall:  0.914285714286\n",
      "[[32  3]\n",
      " [ 0 37]]\n"
     ]
    }
   ],
   "source": [
    "C = 100000000000 # large C -> no regularization\n",
    "logistic_regr = LogisticRegression(penalty='l2', C=C) \n",
    "\n",
    "val_pred_list = []\n",
    "logistic_regr.fit(F_train, label_train)\n",
    "\n",
    "# on validation set    \n",
    "valid_pred = (logistic_regr.predict(F_valid))\n",
    "valid_pred_l = list((valid_pred.astype('float')).astype('int'))\n",
    "label_valid_l = list((label_valid.astype('float')).astype('int'))\n",
    "\n",
    "seqh.evaluate_result(label_valid_l, valid_pred_l)"
   ]
  },
  {
   "cell_type": "code",
   "execution_count": 7,
   "metadata": {
    "collapsed": false
   },
   "outputs": [
    {
     "name": "stdout",
     "output_type": "stream",
     "text": [
      "accuracy:  0.972222222222\n",
      "precision:  1.0\n",
      "recall:  0.945945945946\n",
      "[[35  2]\n",
      " [ 0 35]]\n"
     ]
    }
   ],
   "source": [
    "# on test set    \n",
    "test_pred = (logistic_regr.predict(F_test))\n",
    "test_pred_l = list((test_pred.astype('float')).astype('int'))\n",
    "label_test_l = list((label_test.astype('float')).astype('int'))\n",
    "seqh.evaluate_result(label_test_l, test_pred_l)"
   ]
  },
  {
   "cell_type": "code",
   "execution_count": 8,
   "metadata": {
    "collapsed": false
   },
   "outputs": [
    {
     "data": {
      "text/plain": [
       "625"
      ]
     },
     "execution_count": 8,
     "metadata": {},
     "output_type": "execute_result"
    }
   ],
   "source": []
  },
  {
   "cell_type": "code",
   "execution_count": 13,
   "metadata": {
    "collapsed": false
   },
   "outputs": [],
   "source": [
    "# save data\n",
    "F_name = 'F_with_N.csv'\n",
    "Q_name = 'Q.csv'\n",
    "F_save = ''.join(['./matrix_data/', F_name])\n",
    "np.savetxt(F_save, F, delimiter=\",\")\n",
    "Q_save = ''.join(['./matrix_data/', Q_name])\n",
    "np.savetxt(Q_save, Q, delimiter=\",\")"
   ]
  },
  {
   "cell_type": "code",
   "execution_count": null,
   "metadata": {
    "collapsed": true
   },
   "outputs": [],
   "source": []
  },
  {
   "cell_type": "code",
   "execution_count": null,
   "metadata": {
    "collapsed": true
   },
   "outputs": [],
   "source": []
  },
  {
   "cell_type": "code",
   "execution_count": null,
   "metadata": {
    "collapsed": true
   },
   "outputs": [],
   "source": []
  }
 ],
 "metadata": {
  "kernelspec": {
   "display_name": "Python 3",
   "language": "python",
   "name": "python3"
  },
  "language_info": {
   "codemirror_mode": {
    "name": "ipython",
    "version": 3
   },
   "file_extension": ".py",
   "mimetype": "text/x-python",
   "name": "python",
   "nbconvert_exporter": "python",
   "pygments_lexer": "ipython3",
   "version": "3.5.2"
  }
 },
 "nbformat": 4,
 "nbformat_minor": 2
}
