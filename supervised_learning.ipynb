{
 "cells": [
  {
   "cell_type": "code",
   "execution_count": 31,
   "metadata": {
    "collapsed": true
   },
   "outputs": [],
   "source": [
    "import numpy as np\n",
    "import os\n",
    "from pprint import pprint\n",
    "from collections import defaultdict\n",
    "import seq_helper as seqh\n",
    "from sklearn.linear_model import LogisticRegression\n",
    "from sklearn.model_selection import train_test_split\n",
    "\n",
    "from sklearn.decomposition import PCA\n",
    "from matplotlib.cm import spectral\n",
    "import matplotlib.pyplot as plt"
   ]
  },
  {
   "cell_type": "code",
   "execution_count": 32,
   "metadata": {
    "collapsed": true
   },
   "outputs": [],
   "source": [
    "with_N = False"
   ]
  },
  {
   "cell_type": "code",
   "execution_count": 33,
   "metadata": {
    "collapsed": false,
    "scrolled": true
   },
   "outputs": [],
   "source": [
    "# read data\n",
    "dirname = ''.join(['./pre_process_dataset/'])\n",
    "file_list = []\n",
    "fm_set = set()\n",
    "Q_set = set()\n",
    "label = []\n",
    "\n",
    "name_image_dict = {}\n",
    "for name in os.listdir(dirname):    \n",
    "    file_path_name = ''.join(['./pre_process_dataset/',name])    \n",
    "    data = (seqh.read_from_file(file_path_name))   \n",
    "    \n",
    "    Q_hist = set(data[0].keys())        \n",
    "    Q_set.update(Q_hist)    \n",
    "        \n",
    "    fm_hist = data[1]\n",
    "    \n",
    "    if not with_N:\n",
    "        # collect what to remove    \n",
    "        fm_to_remove = []\n",
    "        for fm in fm_hist.keys():\n",
    "            if 'N' in fm:\n",
    "                fm_to_remove.append(fm)\n",
    "\n",
    "        # remove it\n",
    "        for i in fm_to_remove:\n",
    "            fm_hist.pop(i, None)\n",
    "           \n",
    "    # collect unique\n",
    "    fm_set.update(set(fm_hist.keys()))\n",
    "\n",
    "    label.append(float(data[2]))\n",
    "    \n",
    "    file_list.append(data)\n",
    "\n",
    "label = np.array(label)"
   ]
  },
  {
   "cell_type": "code",
   "execution_count": 34,
   "metadata": {
    "collapsed": false
   },
   "outputs": [],
   "source": [
    "# format data into matrix\n",
    "data_num = len(file_list)\n",
    "\n",
    "Q_dim = len(Q_set)\n",
    "Q_index = [i for i in range(Q_dim)]\n",
    "Q_name = list(Q_set)\n",
    "Q_name_index_dict = dict(zip(Q_name, Q_index))\n",
    "\n",
    "fm_dim = len(fm_set)\n",
    "fm_index = [i for i in range(fm_dim)]  #for the dict to matrix mapping\n",
    "fm_name = list(fm_set)\n",
    "fm_name_index_dict = dict(zip(fm_name, fm_index))\n",
    "\n",
    "Q = np.zeros((data_num, Q_dim))    #Q quality matrix, shape num_data, dim\n",
    "F = np.zeros((data_num, fm_dim))   #4-mer matrix, shape num_data, dim\n",
    "\n",
    "for i in range(data_num):\n",
    "    data = file_list[i]\n",
    "    Q_hist = data[0]\n",
    "    fm_hist = data[1]\n",
    "    data_Q_num = np.sum(np.array(list(Q_hist.values())))\n",
    "    data_fm_num = np.sum(np.array(list(fm_hist.values())))    \n",
    "    \n",
    "    for key, value in Q_hist.items():\n",
    "        j = Q_name_index_dict[key]\n",
    "        Q[i,j] = value/data_Q_num       #normalization\n",
    "        \n",
    "    for key, value in fm_hist.items():\n",
    "        j = fm_name_index_dict[key]\n",
    "        F[i,j] = value/data_fm_num      #normalization\n",
    "    "
   ]
  },
  {
   "cell_type": "code",
   "execution_count": 35,
   "metadata": {
    "collapsed": false
   },
   "outputs": [],
   "source": [
    "#read fragment file\n",
    "import numpy as np\n",
    "tmpData = np.genfromtxt('matrix_data/fragLenOutput.txt',delimiter='\\t',dtype=float)\n",
    "\n",
    "#length file\n",
    "L = np.delete(tmpData,0,1)\n",
    "for i in range(0,len(L)):\n",
    "    curSum = np.sum(L[i])\n",
    "    for j in range(0,len(L[i])):\n",
    "        tmp = float(L[i][j]) / float(curSum)\n",
    "        L[i][j] = tmp"
   ]
  },
  {
   "cell_type": "code",
   "execution_count": 36,
   "metadata": {
    "collapsed": false,
    "scrolled": true
   },
   "outputs": [
    {
     "name": "stdout",
     "output_type": "stream",
     "text": [
      "Results on validation set using quality score\n",
      "\n",
      "accuracy:  0.875\n",
      "precision:  0.882352941176\n",
      "recall:  0.857142857143\n",
      "[[30  5]\n",
      " [ 4 33]]\n"
     ]
    }
   ],
   "source": [
    "#Q is quality file\n",
    "#F is 4-mer file\n",
    "#L is fragment length file\n",
    "# logistic regression, 0.6 training, 0.2 validation, 0.2 testing\n",
    "Q_train, Q_test, F_train, F_test, L_train, L_test, label_train, label_test = \\\n",
    "    train_test_split(Q,F,L,label,test_size=0.4, random_state=42)\n",
    "    \n",
    "Q_valid, Q_test, F_valid, F_test, L_valid, L_test, label_valid, label_test = \\\n",
    "    train_test_split(Q_test,F_test,L_test, label_test,test_size=0.5, random_state=42)\n",
    "\n",
    "C = 100000000000 # large C -> no regularization\n",
    "logistic_regr = LogisticRegression(penalty='l2', C=C) \n",
    "\n",
    "val_pred_list = []\n",
    "logistic_regr.fit(Q_train, label_train)\n",
    "\n",
    "#Quality score\n",
    "# on validation set    \n",
    "valid_pred = (logistic_regr.predict(Q_valid))\n",
    "valid_pred_l = list((valid_pred.astype('float')).astype('int'))\n",
    "label_valid_l = list((label_valid.astype('float')).astype('int'))\n",
    "\n",
    "print(\"Results on validation set using quality score\\n\")\n",
    "seqh.evaluate_result(label_valid_l, valid_pred_l)"
   ]
  },
  {
   "cell_type": "code",
   "execution_count": 37,
   "metadata": {
    "collapsed": false,
    "scrolled": false
   },
   "outputs": [
    {
     "name": "stdout",
     "output_type": "stream",
     "text": [
      "Results on test set using quality score\n",
      "\n",
      "accuracy:  0.805555555556\n",
      "precision:  0.794871794872\n",
      "recall:  0.837837837838\n",
      "[[31  6]\n",
      " [ 8 27]]\n"
     ]
    },
    {
     "name": "stderr",
     "output_type": "stream",
     "text": [
      "/Users/Fan/anaconda/lib/python3.5/site-packages/sklearn/linear_model/base.py:352: RuntimeWarning: overflow encountered in exp\n",
      "  np.exp(prob, prob)\n"
     ]
    },
    {
     "data": {
      "image/png": "[encoded data removed]",
      "text/plain": [
       "<matplotlib.figure.Figure at 0x1090e36d8>"
      ]
     },
     "metadata": {},
     "output_type": "display_data"
    }
   ],
   "source": [
    "# on test set    \n",
    "test_pred = (logistic_regr.predict(Q_test))\n",
    "test_pred_l = list((test_pred.astype('float')).astype('int'))\n",
    "label_test_l = list((label_test.astype('float')).astype('int'))\n",
    "\n",
    "print(\"Results on test set using quality score\\n\")\n",
    "\n",
    "seqh.evaluate_result(label_test_l, test_pred_l)\n",
    "\n",
    "#the probabilties that each dataset belongs in each class\n",
    "probs = logistic_regr.predict_proba(Q_test)\n",
    "\n",
    "#plot the probability \n",
    "plt.scatter(probs[:,0],np.random.rand(72),c=label_test)\n",
    "plt.show()"
   ]
  },
  {
   "cell_type": "code",
   "execution_count": 38,
   "metadata": {
    "collapsed": false
   },
   "outputs": [
    {
     "name": "stdout",
     "output_type": "stream",
     "text": [
      "Results on validation set using 4-mer\n",
      "\n",
      "accuracy:  0.958333333333\n",
      "precision:  1.0\n",
      "recall:  0.914285714286\n",
      "[[32  3]\n",
      " [ 0 37]]\n"
     ]
    }
   ],
   "source": [
    "C = 100000000000 # large C -> no regularization\n",
    "logistic_regr = LogisticRegression(penalty='l2', C=C) \n",
    "\n",
    "val_pred_list = []\n",
    "logistic_regr.fit(F_train, label_train)\n",
    "\n",
    "# 4-mer\n",
    "# on validation set    \n",
    "valid_pred = (logistic_regr.predict(F_valid))\n",
    "valid_pred_l = list((valid_pred.astype('float')).astype('int'))\n",
    "label_valid_l = list((label_valid.astype('float')).astype('int'))\n",
    "\n",
    "print(\"Results on validation set using 4-mer\\n\")\n",
    "\n",
    "seqh.evaluate_result(label_valid_l, valid_pred_l)"
   ]
  },
  {
   "cell_type": "code",
   "execution_count": 39,
   "metadata": {
    "collapsed": false
   },
   "outputs": [
    {
     "name": "stdout",
     "output_type": "stream",
     "text": [
      "Results on validation set using 4-mer score\n",
      "\n",
      "accuracy:  0.972222222222\n",
      "precision:  1.0\n",
      "recall:  0.945945945946\n",
      "[[35  2]\n",
      " [ 0 35]]\n"
     ]
    },
    {
     "data": {
      "image/png": "[encoded data removed]",
      "text/plain": [
       "<matplotlib.figure.Figure at 0x1090e02b0>"
      ]
     },
     "metadata": {},
     "output_type": "display_data"
    }
   ],
   "source": [
    "# 4-mer\n",
    "# on test set    \n",
    "test_pred = (logistic_regr.predict(F_test))\n",
    "test_pred_l = list((test_pred.astype('float')).astype('int'))\n",
    "label_test_l = list((label_test.astype('float')).astype('int'))\n",
    "\n",
    "#the probabilties that each dataset belongs in each class\n",
    "probs = logistic_regr.predict_proba(F_test)\n",
    "\n",
    "print(\"Results on validation set using 4-mer score\\n\")\n",
    "\n",
    "seqh.evaluate_result(label_test_l, test_pred_l)\n",
    "\n",
    "#plot the probability \n",
    "plt.scatter(probs[:,0],np.random.rand(72),c=label_test)\n",
    "plt.show()"
   ]
  },
  {
   "cell_type": "code",
   "execution_count": 40,
   "metadata": {
    "collapsed": false
   },
   "outputs": [
    {
     "name": "stdout",
     "output_type": "stream",
     "text": [
      "Results on validation set using fragment length\n",
      "\n",
      "accuracy:  0.875\n",
      "precision:  0.861111111111\n",
      "recall:  0.885714285714\n",
      "[[31  4]\n",
      " [ 5 32]]\n"
     ]
    }
   ],
   "source": [
    "C = 100000000000 # large C -> no regularization\n",
    "logistic_regr = LogisticRegression(penalty='l2', C=C) \n",
    "\n",
    "val_pred_list = []\n",
    "logistic_regr.fit(L_train, label_train)\n",
    "\n",
    "# fragment length\n",
    "# on validation set    \n",
    "valid_pred = (logistic_regr.predict(L_valid))\n",
    "valid_pred_l = list((valid_pred.astype('float')).astype('int'))\n",
    "label_valid_l = list((label_valid.astype('float')).astype('int'))\n",
    "\n",
    "print(\"Results on validation set using fragment length\\n\")\n",
    "\n",
    "seqh.evaluate_result(label_valid_l, valid_pred_l)"
   ]
  },
  {
   "cell_type": "code",
   "execution_count": 41,
   "metadata": {
    "collapsed": false
   },
   "outputs": [
    {
     "name": "stdout",
     "output_type": "stream",
     "text": [
      "Results on test set using 4-mer score\n",
      "\n",
      "accuracy:  0.833333333333\n",
      "precision:  0.857142857143\n",
      "recall:  0.810810810811\n",
      "[[30  7]\n",
      " [ 5 30]]\n"
     ]
    },
    {
     "data": {
      "image/png": "[encoded data removed]",
      "text/plain": [
       "<matplotlib.figure.Figure at 0x10a7317b8>"
      ]
     },
     "metadata": {},
     "output_type": "display_data"
    }
   ],
   "source": [
    "# fragment length\n",
    "# on test set    \n",
    "test_pred = (logistic_regr.predict(L_test))\n",
    "test_pred_l = list((test_pred.astype('float')).astype('int'))\n",
    "label_test_l = list((label_test.astype('float')).astype('int'))\n",
    "\n",
    "probs = logistic_regr.predict_proba(L_test)\n",
    "\n",
    "print(\"Results on test set using 4-mer score\\n\")\n",
    "\n",
    "seqh.evaluate_result(label_test_l, test_pred_l)\n",
    "\n",
    "#plot the probability \n",
    "plt.scatter(probs[:,0],np.random.rand(72),c=label_test)\n",
    "plt.show()"
   ]
  },
  {
   "cell_type": "code",
   "execution_count": 42,
   "metadata": {
    "collapsed": false
   },
   "outputs": [
    {
     "name": "stdout",
     "output_type": "stream",
     "text": [
      "Results on validation set using fragment length\n",
      "\n",
      "accuracy:  0.958333333333\n",
      "precision:  1.0\n",
      "recall:  0.914285714286\n",
      "[[32  3]\n",
      " [ 0 37]]\n"
     ]
    }
   ],
   "source": [
    "#concatenate all of the features together\n",
    "tmpA = np.concatenate((Q,L),axis=1)\n",
    "A = np.concatenate((tmpA,F),axis=1)\n",
    "\n",
    "# logistic regression, 0.6 training, 0.2 validation, 0.2 testing\n",
    "A_train, A_test, label_train, label_test = \\\n",
    "    train_test_split(A,label,test_size=0.4, random_state=42)\n",
    "    \n",
    "A_valid, A_test, label_valid, label_test = \\\n",
    "    train_test_split(A_test, label_test,test_size=0.5, random_state=42)\n",
    "\n",
    "C = 100000000000 # large C -> no regularization\n",
    "logistic_regr = LogisticRegression(penalty='l2', C=C) \n",
    "\n",
    "val_pred_list = []\n",
    "logistic_regr.fit(A_train, label_train)\n",
    "\n",
    "# fragment length\n",
    "# on validation set    \n",
    "valid_pred = (logistic_regr.predict(A_valid))\n",
    "valid_pred_l = list((valid_pred.astype('float')).astype('int'))\n",
    "label_valid_l = list((label_valid.astype('float')).astype('int'))\n",
    "\n",
    "print(\"Results on validation set using fragment length\\n\")\n",
    "\n",
    "seqh.evaluate_result(label_valid_l, valid_pred_l)"
   ]
  },
  {
   "cell_type": "code",
   "execution_count": 43,
   "metadata": {
    "collapsed": false
   },
   "outputs": [
    {
     "name": "stdout",
     "output_type": "stream",
     "text": [
      "Results on test set using all features score\n",
      "\n",
      "accuracy:  0.958333333333\n",
      "precision:  0.972222222222\n",
      "recall:  0.945945945946\n",
      "[[35  2]\n",
      " [ 1 34]]\n"
     ]
    },
    {
     "data": {
      "text/plain": [
       "<matplotlib.collections.PathCollection at 0x109a553c8>"
      ]
     },
     "execution_count": 43,
     "metadata": {},
     "output_type": "execute_result"
    }
   ],
   "source": [
    "# All features concatendated \n",
    "# on test set    \n",
    "test_pred = (logistic_regr.predict(A_test))\n",
    "test_pred_l = list((test_pred.astype('float')).astype('int'))\n",
    "label_test_l = list((label_test.astype('float')).astype('int'))\n",
    "\n",
    "probs = logistic_regr.predict_proba(A_test)\n",
    "\n",
    "print(\"Results on test set using all features score\\n\")\n",
    "\n",
    "seqh.evaluate_result(label_test_l, test_pred_l)\n",
    "\n",
    "#plot the probability \n",
    "plt.scatter(probs[:,0],np.random.rand(72),c=label_test)\n",
    "#plt.show()"
   ]
  },
  {
   "cell_type": "code",
   "execution_count": 44,
   "metadata": {
    "collapsed": false
   },
   "outputs": [
    {
     "name": "stdout",
     "output_type": "stream",
     "text": [
      "Results on validation set using fragment length (SVM)\n",
      "\n",
      "accuracy:  0.944444444444\n",
      "precision:  1.0\n",
      "recall:  0.885714285714\n",
      "[[31  4]\n",
      " [ 0 37]]\n"
     ]
    }
   ],
   "source": [
    "#run SVM of input file containing all features\n",
    "from sklearn.svm import SVC\n",
    "\n",
    "clf = SVC(kernel='linear', C=10000000)\n",
    "clf.fit(A_train, label_train)\n",
    "\n",
    "# fragment length\n",
    "# on validation set    \n",
    "valid_pred = (clf.predict(A_valid))\n",
    "valid_pred_l = list((valid_pred.astype('float')).astype('int'))\n",
    "label_valid_l = list((label_valid.astype('float')).astype('int'))\n",
    "\n",
    "print(\"Results on validation set using fragment length (SVM)\\n\")\n",
    "\n",
    "seqh.evaluate_result(label_valid_l, valid_pred_l)"
   ]
  },
  {
   "cell_type": "code",
   "execution_count": 46,
   "metadata": {
    "collapsed": false
   },
   "outputs": [
    {
     "name": "stdout",
     "output_type": "stream",
     "text": [
      "Results on test set using all features score\n",
      "\n",
      "accuracy:  0.958333333333\n",
      "precision:  0.972222222222\n",
      "recall:  0.945945945946\n",
      "[[35  2]\n",
      " [ 1 34]]\n"
     ]
    }
   ],
   "source": [
    "# All features concatendated \n",
    "# on test set    \n",
    "test_pred = (clf.predict(A_test))\n",
    "test_pred_l = list((test_pred.astype('float')).astype('int'))\n",
    "label_test_l = list((label_test.astype('float')).astype('int'))\n",
    "\n",
    "#probs = clf.predict_proba(A_test)\n",
    "\n",
    "print(\"Results on test set using all features score\\n\")\n",
    "\n",
    "seqh.evaluate_result(label_test_l, test_pred_l)\n",
    "\n",
    "#plot the probability \n",
    "#plt.scatter(probs[:,0],np.random.rand(72),c=label_test)"
   ]
  },
  {
   "cell_type": "code",
   "execution_count": 50,
   "metadata": {
    "collapsed": false
   },
   "outputs": [
    {
     "data": {
      "image/png": "[encoded data removed]",
      "text/plain": [
       "<matplotlib.figure.Figure at 0x10a6cd7b8>"
      ]
     },
     "metadata": {},
     "output_type": "display_data"
    }
   ],
   "source": [
    "plt.scatter(probs[:,0],np.random.rand(72),c=label_test)\n",
    "plt.show()"
   ]
  },
  {
   "cell_type": "code",
   "execution_count": 14,
   "metadata": {
    "collapsed": false
   },
   "outputs": [],
   "source": [
    "# save data\n",
    "if with_N:\n",
    "    F_name = 'F_with_N.csv'\n",
    "else:\n",
    "    F_name = 'F.csv'\n",
    "Q_name = 'Q.csv'\n",
    "L_name = 'L.csv'\n",
    "F_save = ''.join(['./matrix_data/', F_name])\n",
    "np.savetxt(F_save, F, delimiter=\",\")\n",
    "Q_save = ''.join(['./matrix_data/', Q_name])\n",
    "np.savetxt(Q_save, Q, delimiter=\",\")\n",
    "L_save = ''.join(['./matrix_data/', L_name])\n",
    "L = np.array(label).astype(np.float)\n",
    "np.savetxt(L_save, L, delimiter=\",\")"
   ]
  },
  {
   "cell_type": "code",
   "execution_count": null,
   "metadata": {
    "collapsed": true
   },
   "outputs": [],
   "source": []
  }
 ],
 "metadata": {
  "anaconda-cloud": {},
  "kernelspec": {
   "display_name": "Python [default]",
   "language": "python",
   "name": "python3"
  },
  "language_info": {
   "codemirror_mode": {
    "name": "ipython",
    "version": 3
   },
   "file_extension": ".py",
   "mimetype": "text/x-python",
   "name": "python",
   "nbconvert_exporter": "python",
   "pygments_lexer": "ipython3",
   "version": "3.5.2"
  }
 },
 "nbformat": 4,
 "nbformat_minor": 2
}
